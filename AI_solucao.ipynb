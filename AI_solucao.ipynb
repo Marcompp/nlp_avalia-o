{
 "cells": [
  {
   "cell_type": "code",
   "execution_count": 1,
   "id": "835a8587",
   "metadata": {},
   "outputs": [
    {
     "name": "stdout",
     "output_type": "stream",
     "text": [
      "oi\n"
     ]
    }
   ],
   "source": [
    "import pandas as pd\n",
    "import numpy as np\n",
    "import matplotlib.pyplot as plt\n",
    "print(\"Hello World\")"
   ]
  },
  {
   "cell_type": "code",
   "execution_count": 3,
   "id": "3cf0ccc0",
   "metadata": {},
   "outputs": [],
   "source": [
    "df_orders = pd.read_csv('olist_orders_dataset.csv')\n",
    "\n",
    "#df_orders.head"
   ]
  },
  {
   "cell_type": "code",
   "execution_count": 5,
   "id": "d28f9201",
   "metadata": {},
   "outputs": [],
   "source": [
    "df_reviews = pd.read_csv('olist_order_reviews_dataset.csv')\n",
    "\n",
    "#df_orders.head"
   ]
  },
  {
   "cell_type": "code",
   "execution_count": 6,
   "id": "58b45cb8",
   "metadata": {},
   "outputs": [],
   "source": [
    "df = pd.merge(df_orders,df_reviews,how=\"inner\",on=\"order_id\")\n",
    "\n",
    "df = df.dropna()\n",
    "#df.head"
   ]
  },
  {
   "cell_type": "code",
   "execution_count": 7,
   "id": "6bcbe141",
   "metadata": {},
   "outputs": [],
   "source": [
    "df['order_delivered_customer_date'] = pd.to_datetime(df['order_delivered_customer_date'])\n",
    "df['order_purchase_timestamp'] = pd.to_datetime(df['order_purchase_timestamp'])\n",
    "df['order_estimated_delivery_date'] = pd.to_datetime(df['order_estimated_delivery_date'])"
   ]
  },
  {
   "cell_type": "code",
   "execution_count": 9,
   "id": "079f3af3",
   "metadata": {},
   "outputs": [
    {
     "data": {
      "text/plain": [
       "<bound method NDFrame.head of        days_for_delivery  days_delay\n",
       "1              13.782037   -5.355729\n",
       "15             13.855093  -12.351019\n",
       "23              4.277627   -3.233021\n",
       "25             12.639375  -31.360475\n",
       "30             18.633970   -9.480162\n",
       "...                  ...         ...\n",
       "99144           6.218993  -29.402222\n",
       "99152           1.432269   -3.049688\n",
       "99160           8.006968  -16.264792\n",
       "99178           2.127083   -3.328738\n",
       "99210           6.150058  -16.278831\n",
       "\n",
       "[9500 rows x 2 columns]>"
      ]
     },
     "execution_count": 9,
     "metadata": {},
     "output_type": "execute_result"
    }
   ],
   "source": [
    "df['days_for_delivery'] = (df['order_delivered_customer_date'] - df['order_purchase_timestamp']) / np.timedelta64(1, 'D')\n",
    "df['days_delay'] = (df['order_delivered_customer_date'] - df['order_estimated_delivery_date']) / np.timedelta64(1, 'D')\n",
    "df[['days_for_delivery', 'days_delay']].head"
   ]
  },
  {
   "cell_type": "code",
   "execution_count": 11,
   "id": "deaeb16a",
   "metadata": {},
   "outputs": [],
   "source": [
    "df1 = df.query(\"review_score == 1\")\n",
    "df2 = df.query(\"review_score == 2\")\n",
    "df3 = df.query(\"review_score == 3\")\n",
    "df4 = df.query(\"review_score == 4\")\n",
    "df5 = df.query(\"review_score == 5\")"
   ]
  },
  {
   "cell_type": "code",
   "execution_count": 12,
   "id": "be45a302",
   "metadata": {},
   "outputs": [
    {
     "data": {
      "image/png": "[encoded data removed]",
      "text/plain": [
       "<Figure size 432x288 with 1 Axes>"
      ]
     },
     "metadata": {
      "needs_background": "light"
     },
     "output_type": "display_data"
    }
   ],
   "source": [
    "# plot\n",
    "\n",
    "x = [1,2,3,4,5]\n",
    "y = [df1[\"days_for_delivery\"].mean(),df2[\"days_for_delivery\"].mean(),df3[\"days_for_delivery\"].mean(),df4[\"days_for_delivery\"].mean(),df5[\"days_for_delivery\"].mean()]\n",
    "\n",
    "fig, ax = plt.subplots()\n",
    "\n",
    "ax.bar(x, y, width=1, edgecolor=\"white\", linewidth=0.7)\n",
    "\n",
    "ax.set(xlim=(0, 6), xticks=np.arange(1, 6),ylim=(0, 16), yticks=np.arange(1, 17))\n",
    "\n",
    "plt.xlabel('Rating')\n",
    "plt.ylabel('Average Days for Delivery')\n",
    "plt.title('Rating / Days for Delivery')\n",
    "ax.set_axisbelow(True)\n",
    "ax.grid(axis = 'y',color='gray')\n",
    "\n",
    "plt.show()"
   ]
  },
  {
   "cell_type": "code",
   "execution_count": 13,
   "id": "b198fe64",
   "metadata": {},
   "outputs": [
    {
     "data": {
      "image/png": "[encoded data removed]",
      "text/plain": [
       "<Figure size 432x288 with 1 Axes>"
      ]
     },
     "metadata": {
      "needs_background": "light"
     },
     "output_type": "display_data"
    }
   ],
   "source": [
    "# plot\n",
    "\n",
    "x = [1,2,3,4,5]\n",
    "y = [df1[\"days_delay\"].mean(),df2[\"days_delay\"].mean(),df3[\"days_delay\"].mean(),df4[\"days_delay\"].mean(),df5[\"days_delay\"].mean()]\n",
    "\n",
    "fig, ax = plt.subplots()\n",
    "\n",
    "ax.bar(x, y, width=1, color = \"red\",edgecolor=\"white\", linewidth=0.7)\n",
    "\n",
    "ax.set(xlim=(0, 6), xticks=np.arange(1, 6),ylim=(-16, 3), yticks=np.arange(-16, 3))\n",
    "\n",
    "plt.xlabel('Rating')\n",
    "plt.ylabel('Average Days of Delay')\n",
    "plt.title('Rating / Days of Delay of Delivery')\n",
    "ax.set_axisbelow(True)\n",
    "ax.grid(axis = 'y',color='gray')\n",
    "plt.axhline(linewidth=1,y=0,color='black')\n",
    "\n",
    "plt.show()"
   ]
  },
  {
   "cell_type": "code",
   "execution_count": 17,
   "id": "6e12fab9",
   "metadata": {},
   "outputs": [],
   "source": [
    "docs1 = df1[\"review_comment_message\"].values.tolist()\n",
    "docs2 = df2[\"review_comment_message\"].values.tolist()\n",
    "docs3 = df3[\"review_comment_message\"].values.tolist()\n",
    "docs4 = df4[\"review_comment_message\"].values.tolist()\n",
    "docs5 = df5[\"review_comment_message\"].values.tolist()"
   ]
  },
  {
   "cell_type": "code",
   "execution_count": 18,
   "id": "ab27ff9c",
   "metadata": {},
   "outputs": [
    {
     "name": "stdout",
     "output_type": "stream",
     "text": [
      "  (0, 1774)\t0.24266000828730977\n",
      "  (0, 766)\t0.1292946730616149\n",
      "  (0, 1446)\t0.27569772299589135\n",
      "  (0, 2509)\t0.13220659890292538\n",
      "  (0, 576)\t0.200721523829635\n",
      "  (0, 1920)\t0.27569772299589135\n",
      "  (0, 2987)\t0.16111003578792932\n",
      "  (0, 2364)\t0.1861021021766814\n",
      "  (0, 225)\t0.11769967634354923\n",
      "  (0, 6)\t0.200721523829635\n",
      "  (0, 37)\t0.2055361224070377\n",
      "  (0, 1114)\t0.14180142761528425\n",
      "  (0, 1052)\t0.21109416856543353\n",
      "  (0, 2879)\t0.19452530295405468\n",
      "  (0, 1624)\t0.15428673945036703\n",
      "  (0, 1963)\t0.1325451547259567\n",
      "  (0, 1819)\t0.26107830134293775\n",
      "  (0, 237)\t0.26107830134293775\n",
      "  (0, 478)\t0.26107830134293775\n",
      "  (0, 2453)\t0.10947419757492556\n",
      "  (0, 728)\t0.23608623495418565\n",
      "  (0, 985)\t0.0747885259216981\n",
      "  (0, 2747)\t0.26107830134293775\n",
      "  (0, 2730)\t0.060260616831171114\n",
      "  (0, 2862)\t0.08359619152335027\n",
      "  :\t:\n",
      "  (1537, 2800)\t0.07262541905431706\n",
      "  (1537, 3409)\t0.16712039643123044\n",
      "  (1537, 1633)\t0.09197507212633584\n",
      "  (1537, 985)\t0.0674091809002288\n",
      "  (1537, 2730)\t0.05431473305657518\n",
      "  (1537, 2862)\t0.07534779871002628\n",
      "  (1538, 1264)\t0.3239345144986012\n",
      "  (1538, 2195)\t0.3239345144986012\n",
      "  (1538, 1518)\t0.3067572407658384\n",
      "  (1538, 3037)\t0.2945697710978084\n",
      "  (1538, 1592)\t0.2517139361055203\n",
      "  (1538, 3261)\t0.2652050276970155\n",
      "  (1538, 2540)\t0.2446367951060786\n",
      "  (1538, 2387)\t0.2480277539642526\n",
      "  (1538, 495)\t0.20920967466358623\n",
      "  (1538, 2255)\t0.15993352376187395\n",
      "  (1538, 160)\t0.23857441806437912\n",
      "  (1538, 513)\t0.2945697710978084\n",
      "  (1538, 3269)\t0.18510034353099283\n",
      "  (1538, 2413)\t0.17039159536291984\n",
      "  (1538, 737)\t0.21172831110084403\n",
      "  (1538, 1172)\t0.10598748713587078\n",
      "  (1538, 3409)\t0.10892797479317755\n",
      "  (1538, 2730)\t0.07080397126414628\n",
      "  (1538, 2347)\t0.07021593902643197\n"
     ]
    }
   ],
   "source": [
    "from sklearn.feature_extraction.text import TfidfVectorizer\n",
    "import numpy as np\n",
    "from pprint import pprint\n",
    "\n",
    "vectorizer = TfidfVectorizer()\n",
    "\n",
    "# Compute the TF-IDF matrix\n",
    "tfidf = vectorizer.fit_transform(df1[\"review_comment_message\"])\n",
    "\n",
    "print(tfidf)\n",
    "\n",
    "# print(tfidf_matrix_idea_word)\n",
    "\n",
    "#j = vectorizer.vocabulary_['put']\n",
    "\n",
    "#for i in range(tfidf.shape[0]):\n",
    "#    print(tfidf[i, j])"
   ]
  },
  {
   "cell_type": "code",
   "execution_count": 19,
   "id": "dede1dfc",
   "metadata": {},
   "outputs": [],
   "source": [
    "def get_term(dict, search_index):\n",
    "    return list(dict.keys())[list(dict.values()).index(search_index)]"
   ]
  },
  {
   "cell_type": "code",
   "execution_count": 20,
   "id": "5e7c30da",
   "metadata": {},
   "outputs": [],
   "source": [
    "def word_frequencies(tfidf):\n",
    "    tfidfadd = []\n",
    "    words = []\n",
    "    for j in range(tfidf.shape[1]):\n",
    "        words.append(get_term(vectorizer.vocabulary_,j))\n",
    "        tfidfadd.append(0)\n",
    "        for i in range(tfidf.shape[0]):            \n",
    "            tfidfadd[j] += tfidf[i, j]\n",
    "    return tfidfadd, words"
   ]
  },
  {
   "cell_type": "code",
   "execution_count": 93,
   "id": "1c1aafb7",
   "metadata": {},
   "outputs": [],
   "source": [
    "import operator\n",
    "import heapq\n",
    "\n",
    "\n",
    "def get_top_words(n,tfidf):\n",
    "    tfdfadd, words = word_frequencies(tfidf)\n",
    "    return get_top(n,tfdfadd,words)\n",
    "\n",
    "def get_top(n,tfidfadd,words):\n",
    "    stopwords = [\"de\",\"que\", \"em\",\"do\", \"da\", \"para\", \"com\", \"um\", \"não\", \"uma\", \"os\", \"no\", \"se\", \"na\", \"por\", \"mais\", \"as\", \"dos\", \"como\", \"mas\", \"foi\", \"ao\", \"ele\", \"das\", \"tem\", \"sua\", \"ser\", \"entre\", \"também\", \"são\", \"mesmo\", \"já\", \"está\", \"pela\", \"ainda\", \"só\", \"sobre\", \"muito\", \"onde\", \"mesmo\", \"nos\", \"sem\", \"aos\", \"seus\", \"quem\", \"nas\", \"quando\", \"tudo\", \"sem\", \"assim\", \"ter\", \"mas\", \"há\", \"porque\", \"essa\", \"assim\", \"nem\", \"eles\", \"agora\", \"antes\", \"depois\", \"sempre\", \"todos\", \"outro\", \"qualquer\", \"além\", \"até\", \"cada\", \"desde\", \"então\", \"menos\", \"mesmo\", \"apenas\", \"outro\",  \"quase\", \"já\", \"nunca\", \"sempre\", \"tão\", \"talvez\", \"também\", \"outros\", \"apenas\", \"somente\", \"tinha\", \"foram\", \"grande\", \"pouco\", \"tinha\", \"tive\", \"teve\", \"durante\", \"através\"]\n",
    "    sw = []\n",
    "    for stopword in stopwords:\n",
    "        sw.append(words.index(stopword))\n",
    "    \n",
    "\n",
    "    tops = list(list(zip(*heapq.nlargest(n, enumerate(tfidfadd), key=operator.itemgetter(1))))[0])\n",
    "    print(tops)\n",
    "    \n",
    "    for word in list(tops):  # iterating on a copy since removing will mess things up\n",
    "        if word in sw:\n",
    "            tops.remove(word)\n",
    "            print(tops)\n",
    "    res = 0\n",
    "    while (len(tops) < n):\n",
    "        res += n - len(tops)\n",
    "        tops = list(list(zip(*heapq.nlargest(n+res, enumerate(tfidfadd), key=operator.itemgetter(1))))[0])\n",
    "        for word in list(tops):\n",
    "            if word in sw:\n",
    "                tops.remove(word)\n",
    "        \n",
    "    \n",
    "    values = []\n",
    "    labels = []\n",
    "    tot = 0\n",
    "\n",
    "    for j in range(len(tfidfadd)):\n",
    "        if j in tops:\n",
    "            values.append(tfidfadd[j]/len(tfidfadd))\n",
    "            labels.append(words[j])\n",
    "        else:\n",
    "            tot += tfidfadd[j]/len(tfidfadd)\n",
    "    #values.append(tot)\n",
    "    #labels.append(\"Other\")\n",
    "    return values, labels"
   ]
  },
  {
   "cell_type": "code",
   "execution_count": 31,
   "id": "ada7b0b0",
   "metadata": {},
   "outputs": [],
   "source": [
    "tfdfadd, words = word_frequencies(tfidf)\n",
    "print(\"foi\")"
   ]
  },
  {
   "cell_type": "code",
   "execution_count": 97,
   "id": "c6c9cc0b",
   "metadata": {},
   "outputs": [
    {
     "name": "stdout",
     "output_type": "stream",
     "text": [
      "[2347, 2730, 2862, 985, 2800, 1172, 3409, 737, 779, 3466, 225, 1633, 1327, 3410, 668, 2318, 2190, 965, 2453, 2278, 2273, 3218, 1471, 1449, 411, 1316, 1238, 2145, 2140, 2509]\n",
      "[2730, 2862, 985, 2800, 1172, 3409, 737, 779, 3466, 225, 1633, 1327, 3410, 668, 2318, 2190, 965, 2453, 2278, 2273, 3218, 1471, 1449, 411, 1316, 1238, 2145, 2140, 2509]\n",
      "[2730, 2862, 2800, 1172, 3409, 737, 779, 3466, 225, 1633, 1327, 3410, 668, 2318, 2190, 965, 2453, 2278, 2273, 3218, 1471, 1449, 411, 1316, 1238, 2145, 2140, 2509]\n",
      "[2730, 2862, 1172, 3409, 737, 779, 3466, 225, 1633, 1327, 3410, 668, 2318, 2190, 965, 2453, 2278, 2273, 3218, 1471, 1449, 411, 1316, 1238, 2145, 2140, 2509]\n",
      "[2730, 2862, 3409, 737, 779, 3466, 225, 1633, 1327, 3410, 668, 2318, 2190, 965, 2453, 2278, 2273, 3218, 1471, 1449, 411, 1316, 1238, 2145, 2140, 2509]\n",
      "[2730, 2862, 737, 779, 3466, 225, 1633, 1327, 3410, 668, 2318, 2190, 965, 2453, 2278, 2273, 3218, 1471, 1449, 411, 1316, 1238, 2145, 2140, 2509]\n",
      "[2730, 2862, 779, 3466, 225, 1633, 1327, 3410, 668, 2318, 2190, 965, 2453, 2278, 2273, 3218, 1471, 1449, 411, 1316, 1238, 2145, 2140, 2509]\n",
      "[2730, 2862, 779, 3466, 1633, 1327, 3410, 668, 2318, 2190, 965, 2453, 2278, 2273, 3218, 1471, 1449, 411, 1316, 1238, 2145, 2140, 2509]\n",
      "[2730, 2862, 779, 3466, 1327, 3410, 668, 2318, 2190, 965, 2453, 2278, 2273, 3218, 1471, 1449, 411, 1316, 1238, 2145, 2140, 2509]\n",
      "[2730, 2862, 779, 3466, 1327, 668, 2318, 2190, 965, 2453, 2278, 2273, 3218, 1471, 1449, 411, 1316, 1238, 2145, 2140, 2509]\n",
      "[2730, 2862, 779, 3466, 1327, 668, 2190, 965, 2453, 2278, 2273, 3218, 1471, 1449, 411, 1316, 1238, 2145, 2140, 2509]\n",
      "[2730, 2862, 779, 3466, 1327, 668, 2190, 2453, 2278, 2273, 3218, 1471, 1449, 411, 1316, 1238, 2145, 2140, 2509]\n",
      "[2730, 2862, 779, 3466, 1327, 668, 2190, 2278, 2273, 3218, 1471, 1449, 411, 1316, 1238, 2145, 2140, 2509]\n",
      "[2730, 2862, 779, 3466, 1327, 668, 2190, 2278, 3218, 1471, 1449, 411, 1316, 1238, 2145, 2140, 2509]\n",
      "[2730, 2862, 779, 3466, 1327, 668, 2190, 2278, 1471, 1449, 411, 1316, 1238, 2145, 2140, 2509]\n",
      "[2730, 2862, 779, 3466, 1327, 668, 2190, 2278, 1471, 1449, 1316, 1238, 2145, 2140, 2509]\n",
      "[2730, 2862, 779, 3466, 1327, 668, 2190, 2278, 1471, 1449, 1316, 2145, 2140, 2509]\n",
      "[2730, 2862, 779, 3466, 1327, 668, 2190, 2278, 1471, 1449, 1316, 2145, 2509]\n"
     ]
    },
    {
     "data": {
      "text/plain": [
       "<BarContainer object of 30 artists>"
      ]
     },
     "execution_count": 97,
     "metadata": {},
     "output_type": "execute_result"
    },
    {
     "data": {
      "image/png": "[encoded data removed]",
      "text/plain": [
       "<Figure size 432x288 with 1 Axes>"
      ]
     },
     "metadata": {
      "needs_background": "light"
     },
     "output_type": "display_data"
    }
   ],
   "source": [
    "values, labels = get_top(30,tfdfadd,words)\n",
    "\n",
    "#fig, ax = plt.subplots()\n",
    "plt.title(\"Most frequent words / Rating = 1\")\n",
    "plt.xticks(rotation='vertical')\n",
    "plt.bar(labels,values)"
   ]
  },
  {
   "cell_type": "code",
   "execution_count": null,
   "id": "956208ab",
   "metadata": {},
   "outputs": [],
   "source": []
  }
 ],
 "metadata": {
  "kernelspec": {
   "display_name": "Python 3 (ipykernel)",
   "language": "python",
   "name": "python3"
  },
  "language_info": {
   "codemirror_mode": {
    "name": "ipython",
    "version": 3
   },
   "file_extension": ".py",
   "mimetype": "text/x-python",
   "name": "python",
   "nbconvert_exporter": "python",
   "pygments_lexer": "ipython3",
   "version": "3.8.13"
  }
 },
 "nbformat": 4,
 "nbformat_minor": 5
}
